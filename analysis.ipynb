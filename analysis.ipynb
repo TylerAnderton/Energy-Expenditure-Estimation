{
 "cells": [
  {
   "cell_type": "markdown",
   "metadata": {},
   "source": [
    "# Setup"
   ]
  },
  {
   "cell_type": "code",
   "execution_count": 28,
   "metadata": {},
   "outputs": [],
   "source": [
    "import pandas as pd\n",
    "import numpy as np"
   ]
  },
  {
   "cell_type": "code",
   "execution_count": null,
   "metadata": {},
   "outputs": [],
   "source": [
    "## SAVE FEATURE STATISTICS FROM PREPROCESSING ##\n",
    "X_MEAN = 21.234056\n",
    "Y_MEAN = -16.93773\n",
    "Z_MEAN = 24.948428\n",
    "\n",
    "HR_MEAN = 81.085869 # bpm\n",
    "WEIGHT_MEAN = 73.272422 # kg\n",
    "HEIGHT_MEAN = 172.332927 # cm\n",
    "GENDER_MEAN = 0.721742 # 0:female, 1:male -- represents class imbalance\n",
    "AGE_MEAN = 30.236566 # yrs\n",
    "\n",
    "EE_MEAN = 3481.625380 # cal/min (NOT kcal/min!!!!!)\n",
    "\n",
    "X_STD = 35.144448\n",
    "Y_STD = 37.25645\n",
    "Z_STD = 23.991521\n",
    "\n",
    "HR_STD = 29.852576\n",
    "WEIGHT_STD = 11.258137\n",
    "HEIGHT_STD = 6.570272\n",
    "GENDER_STD = 0.448141\n",
    "AGE_STD = 5.199545\n",
    "\n",
    "EE_STD = 2752.199323 # cal/min (NOT kcal/min!!!!!)"
   ]
  },
  {
   "cell_type": "markdown",
   "metadata": {},
   "source": [
    "# CNNFCN"
   ]
  },
  {
   "cell_type": "markdown",
   "metadata": {},
   "source": [
    "## Run 1 LOOCV"
   ]
  },
  {
   "cell_type": "markdown",
   "metadata": {},
   "source": [
    "### Best model"
   ]
  },
  {
   "cell_type": "code",
   "execution_count": 3,
   "metadata": {},
   "outputs": [
    {
     "data": {
      "text/html": [
       "<div>\n",
       "<style scoped>\n",
       "    .dataframe tbody tr th:only-of-type {\n",
       "        vertical-align: middle;\n",
       "    }\n",
       "\n",
       "    .dataframe tbody tr th {\n",
       "        vertical-align: top;\n",
       "    }\n",
       "\n",
       "    .dataframe thead th {\n",
       "        text-align: right;\n",
       "    }\n",
       "</style>\n",
       "<table border=\"1\" class=\"dataframe\">\n",
       "  <thead>\n",
       "    <tr style=\"text-align: right;\">\n",
       "      <th></th>\n",
       "      <th>avg_train_mse</th>\n",
       "      <th>avg_train_rmse</th>\n",
       "      <th>avg_val_mse</th>\n",
       "      <th>avg_val_rmse</th>\n",
       "      <th>avg_val_r2</th>\n",
       "      <th>avg_epochs</th>\n",
       "      <th>model_name</th>\n",
       "      <th>timestamp</th>\n",
       "      <th>checkpoint_dir_name</th>\n",
       "      <th>done</th>\n",
       "      <th>...</th>\n",
       "      <th>config/num_conv_layers</th>\n",
       "      <th>config/num_fcn_layers</th>\n",
       "      <th>config/fcn_width</th>\n",
       "      <th>config/log_dir</th>\n",
       "      <th>config/model_dir</th>\n",
       "      <th>config/early_stop_patience</th>\n",
       "      <th>config/fold_early_stop</th>\n",
       "      <th>config/print</th>\n",
       "      <th>config/tune</th>\n",
       "      <th>config/loocv</th>\n",
       "    </tr>\n",
       "  </thead>\n",
       "  <tbody>\n",
       "    <tr>\n",
       "      <th>0</th>\n",
       "      <td>0.263814</td>\n",
       "      <td>0.513629</td>\n",
       "      <td>0.613907</td>\n",
       "      <td>0.783522</td>\n",
       "      <td>0.370740</td>\n",
       "      <td>40.636364</td>\n",
       "      <td>CNNFCNRegressor_conv1_fcn1_fcnw32_lr0.005_batc...</td>\n",
       "      <td>1732767114</td>\n",
       "      <td>NaN</td>\n",
       "      <td>True</td>\n",
       "      <td>...</td>\n",
       "      <td>1</td>\n",
       "      <td>1</td>\n",
       "      <td>32</td>\n",
       "      <td>/Users/tyler/GitHub Repositories/UT Austin/202...</td>\n",
       "      <td>/Users/tyler/GitHub Repositories/UT Austin/202...</td>\n",
       "      <td>20</td>\n",
       "      <td>20</td>\n",
       "      <td>False</td>\n",
       "      <td>True</td>\n",
       "      <td>True</td>\n",
       "    </tr>\n",
       "    <tr>\n",
       "      <th>1</th>\n",
       "      <td>0.259250</td>\n",
       "      <td>0.509166</td>\n",
       "      <td>0.666617</td>\n",
       "      <td>0.816466</td>\n",
       "      <td>0.382786</td>\n",
       "      <td>48.454545</td>\n",
       "      <td>CNNFCNRegressor_conv1_fcn1_fcnw32_lr0.005_batc...</td>\n",
       "      <td>1732767121</td>\n",
       "      <td>NaN</td>\n",
       "      <td>True</td>\n",
       "      <td>...</td>\n",
       "      <td>1</td>\n",
       "      <td>1</td>\n",
       "      <td>32</td>\n",
       "      <td>/Users/tyler/GitHub Repositories/UT Austin/202...</td>\n",
       "      <td>/Users/tyler/GitHub Repositories/UT Austin/202...</td>\n",
       "      <td>20</td>\n",
       "      <td>20</td>\n",
       "      <td>False</td>\n",
       "      <td>True</td>\n",
       "      <td>True</td>\n",
       "    </tr>\n",
       "    <tr>\n",
       "      <th>2</th>\n",
       "      <td>0.263542</td>\n",
       "      <td>0.513363</td>\n",
       "      <td>0.942815</td>\n",
       "      <td>0.970986</td>\n",
       "      <td>-0.143303</td>\n",
       "      <td>41.454545</td>\n",
       "      <td>CNNFCNRegressor_conv1_fcn1_fcnw64_lr0.005_batc...</td>\n",
       "      <td>1732767119</td>\n",
       "      <td>NaN</td>\n",
       "      <td>True</td>\n",
       "      <td>...</td>\n",
       "      <td>1</td>\n",
       "      <td>1</td>\n",
       "      <td>64</td>\n",
       "      <td>/Users/tyler/GitHub Repositories/UT Austin/202...</td>\n",
       "      <td>/Users/tyler/GitHub Repositories/UT Austin/202...</td>\n",
       "      <td>20</td>\n",
       "      <td>20</td>\n",
       "      <td>False</td>\n",
       "      <td>True</td>\n",
       "      <td>True</td>\n",
       "    </tr>\n",
       "    <tr>\n",
       "      <th>3</th>\n",
       "      <td>0.267724</td>\n",
       "      <td>0.517421</td>\n",
       "      <td>0.701133</td>\n",
       "      <td>0.837337</td>\n",
       "      <td>0.361930</td>\n",
       "      <td>46.000000</td>\n",
       "      <td>CNNFCNRegressor_conv1_fcn1_fcnw64_lr0.005_batc...</td>\n",
       "      <td>1732767106</td>\n",
       "      <td>NaN</td>\n",
       "      <td>True</td>\n",
       "      <td>...</td>\n",
       "      <td>1</td>\n",
       "      <td>1</td>\n",
       "      <td>64</td>\n",
       "      <td>/Users/tyler/GitHub Repositories/UT Austin/202...</td>\n",
       "      <td>/Users/tyler/GitHub Repositories/UT Austin/202...</td>\n",
       "      <td>20</td>\n",
       "      <td>20</td>\n",
       "      <td>False</td>\n",
       "      <td>True</td>\n",
       "      <td>True</td>\n",
       "    </tr>\n",
       "    <tr>\n",
       "      <th>4</th>\n",
       "      <td>0.291004</td>\n",
       "      <td>0.539448</td>\n",
       "      <td>0.574444</td>\n",
       "      <td>0.757921</td>\n",
       "      <td>0.436996</td>\n",
       "      <td>57.363636</td>\n",
       "      <td>CNNFCNRegressor_conv1_fcn1_fcnw32_lr0.001_batc...</td>\n",
       "      <td>1732767222</td>\n",
       "      <td>NaN</td>\n",
       "      <td>True</td>\n",
       "      <td>...</td>\n",
       "      <td>1</td>\n",
       "      <td>1</td>\n",
       "      <td>32</td>\n",
       "      <td>/Users/tyler/GitHub Repositories/UT Austin/202...</td>\n",
       "      <td>/Users/tyler/GitHub Repositories/UT Austin/202...</td>\n",
       "      <td>20</td>\n",
       "      <td>20</td>\n",
       "      <td>False</td>\n",
       "      <td>True</td>\n",
       "      <td>True</td>\n",
       "    </tr>\n",
       "    <tr>\n",
       "      <th>...</th>\n",
       "      <td>...</td>\n",
       "      <td>...</td>\n",
       "      <td>...</td>\n",
       "      <td>...</td>\n",
       "      <td>...</td>\n",
       "      <td>...</td>\n",
       "      <td>...</td>\n",
       "      <td>...</td>\n",
       "      <td>...</td>\n",
       "      <td>...</td>\n",
       "      <td>...</td>\n",
       "      <td>...</td>\n",
       "      <td>...</td>\n",
       "      <td>...</td>\n",
       "      <td>...</td>\n",
       "      <td>...</td>\n",
       "      <td>...</td>\n",
       "      <td>...</td>\n",
       "      <td>...</td>\n",
       "      <td>...</td>\n",
       "      <td>...</td>\n",
       "    </tr>\n",
       "    <tr>\n",
       "      <th>139</th>\n",
       "      <td>1.177141</td>\n",
       "      <td>1.084961</td>\n",
       "      <td>1.207299</td>\n",
       "      <td>1.098772</td>\n",
       "      <td>-0.095337</td>\n",
       "      <td>30.454545</td>\n",
       "      <td>CNNFCNRegressor_conv3_fcn3_fcnw64_lr0.05_batch...</td>\n",
       "      <td>1732775080</td>\n",
       "      <td>NaN</td>\n",
       "      <td>True</td>\n",
       "      <td>...</td>\n",
       "      <td>3</td>\n",
       "      <td>3</td>\n",
       "      <td>64</td>\n",
       "      <td>/Users/tyler/GitHub Repositories/UT Austin/202...</td>\n",
       "      <td>/Users/tyler/GitHub Repositories/UT Austin/202...</td>\n",
       "      <td>20</td>\n",
       "      <td>20</td>\n",
       "      <td>False</td>\n",
       "      <td>True</td>\n",
       "      <td>True</td>\n",
       "    </tr>\n",
       "    <tr>\n",
       "      <th>140</th>\n",
       "      <td>0.438081</td>\n",
       "      <td>0.661877</td>\n",
       "      <td>0.498180</td>\n",
       "      <td>0.705819</td>\n",
       "      <td>0.519610</td>\n",
       "      <td>39.090909</td>\n",
       "      <td>CNNFCNRegressor_conv3_fcn3_fcnw32_lr0.01_batch...</td>\n",
       "      <td>1732775333</td>\n",
       "      <td>NaN</td>\n",
       "      <td>True</td>\n",
       "      <td>...</td>\n",
       "      <td>3</td>\n",
       "      <td>3</td>\n",
       "      <td>32</td>\n",
       "      <td>/Users/tyler/GitHub Repositories/UT Austin/202...</td>\n",
       "      <td>/Users/tyler/GitHub Repositories/UT Austin/202...</td>\n",
       "      <td>20</td>\n",
       "      <td>20</td>\n",
       "      <td>False</td>\n",
       "      <td>True</td>\n",
       "      <td>True</td>\n",
       "    </tr>\n",
       "    <tr>\n",
       "      <th>141</th>\n",
       "      <td>0.386622</td>\n",
       "      <td>0.621789</td>\n",
       "      <td>0.625880</td>\n",
       "      <td>0.791126</td>\n",
       "      <td>0.298825</td>\n",
       "      <td>33.363636</td>\n",
       "      <td>CNNFCNRegressor_conv3_fcn3_fcnw32_lr0.01_batch...</td>\n",
       "      <td>1732775255</td>\n",
       "      <td>NaN</td>\n",
       "      <td>True</td>\n",
       "      <td>...</td>\n",
       "      <td>3</td>\n",
       "      <td>3</td>\n",
       "      <td>32</td>\n",
       "      <td>/Users/tyler/GitHub Repositories/UT Austin/202...</td>\n",
       "      <td>/Users/tyler/GitHub Repositories/UT Austin/202...</td>\n",
       "      <td>20</td>\n",
       "      <td>20</td>\n",
       "      <td>False</td>\n",
       "      <td>True</td>\n",
       "      <td>True</td>\n",
       "    </tr>\n",
       "    <tr>\n",
       "      <th>142</th>\n",
       "      <td>0.402782</td>\n",
       "      <td>0.634651</td>\n",
       "      <td>0.537016</td>\n",
       "      <td>0.732814</td>\n",
       "      <td>0.504749</td>\n",
       "      <td>33.454545</td>\n",
       "      <td>CNNFCNRegressor_conv3_fcn3_fcnw64_lr0.01_batch...</td>\n",
       "      <td>1732775355</td>\n",
       "      <td>NaN</td>\n",
       "      <td>True</td>\n",
       "      <td>...</td>\n",
       "      <td>3</td>\n",
       "      <td>3</td>\n",
       "      <td>64</td>\n",
       "      <td>/Users/tyler/GitHub Repositories/UT Austin/202...</td>\n",
       "      <td>/Users/tyler/GitHub Repositories/UT Austin/202...</td>\n",
       "      <td>20</td>\n",
       "      <td>20</td>\n",
       "      <td>False</td>\n",
       "      <td>True</td>\n",
       "      <td>True</td>\n",
       "    </tr>\n",
       "    <tr>\n",
       "      <th>143</th>\n",
       "      <td>0.323156</td>\n",
       "      <td>0.568468</td>\n",
       "      <td>0.669193</td>\n",
       "      <td>0.818042</td>\n",
       "      <td>0.316889</td>\n",
       "      <td>35.090909</td>\n",
       "      <td>CNNFCNRegressor_conv3_fcn3_fcnw64_lr0.01_batch...</td>\n",
       "      <td>1732775354</td>\n",
       "      <td>NaN</td>\n",
       "      <td>True</td>\n",
       "      <td>...</td>\n",
       "      <td>3</td>\n",
       "      <td>3</td>\n",
       "      <td>64</td>\n",
       "      <td>/Users/tyler/GitHub Repositories/UT Austin/202...</td>\n",
       "      <td>/Users/tyler/GitHub Repositories/UT Austin/202...</td>\n",
       "      <td>20</td>\n",
       "      <td>20</td>\n",
       "      <td>False</td>\n",
       "      <td>True</td>\n",
       "      <td>True</td>\n",
       "    </tr>\n",
       "  </tbody>\n",
       "</table>\n",
       "<p>144 rows × 34 columns</p>\n",
       "</div>"
      ],
      "text/plain": [
       "     avg_train_mse  avg_train_rmse  avg_val_mse  avg_val_rmse  avg_val_r2  \\\n",
       "0         0.263814        0.513629     0.613907      0.783522    0.370740   \n",
       "1         0.259250        0.509166     0.666617      0.816466    0.382786   \n",
       "2         0.263542        0.513363     0.942815      0.970986   -0.143303   \n",
       "3         0.267724        0.517421     0.701133      0.837337    0.361930   \n",
       "4         0.291004        0.539448     0.574444      0.757921    0.436996   \n",
       "..             ...             ...          ...           ...         ...   \n",
       "139       1.177141        1.084961     1.207299      1.098772   -0.095337   \n",
       "140       0.438081        0.661877     0.498180      0.705819    0.519610   \n",
       "141       0.386622        0.621789     0.625880      0.791126    0.298825   \n",
       "142       0.402782        0.634651     0.537016      0.732814    0.504749   \n",
       "143       0.323156        0.568468     0.669193      0.818042    0.316889   \n",
       "\n",
       "     avg_epochs                                         model_name  \\\n",
       "0     40.636364  CNNFCNRegressor_conv1_fcn1_fcnw32_lr0.005_batc...   \n",
       "1     48.454545  CNNFCNRegressor_conv1_fcn1_fcnw32_lr0.005_batc...   \n",
       "2     41.454545  CNNFCNRegressor_conv1_fcn1_fcnw64_lr0.005_batc...   \n",
       "3     46.000000  CNNFCNRegressor_conv1_fcn1_fcnw64_lr0.005_batc...   \n",
       "4     57.363636  CNNFCNRegressor_conv1_fcn1_fcnw32_lr0.001_batc...   \n",
       "..          ...                                                ...   \n",
       "139   30.454545  CNNFCNRegressor_conv3_fcn3_fcnw64_lr0.05_batch...   \n",
       "140   39.090909  CNNFCNRegressor_conv3_fcn3_fcnw32_lr0.01_batch...   \n",
       "141   33.363636  CNNFCNRegressor_conv3_fcn3_fcnw32_lr0.01_batch...   \n",
       "142   33.454545  CNNFCNRegressor_conv3_fcn3_fcnw64_lr0.01_batch...   \n",
       "143   35.090909  CNNFCNRegressor_conv3_fcn3_fcnw64_lr0.01_batch...   \n",
       "\n",
       "      timestamp  checkpoint_dir_name  done  ...  config/num_conv_layers  \\\n",
       "0    1732767114                  NaN  True  ...                       1   \n",
       "1    1732767121                  NaN  True  ...                       1   \n",
       "2    1732767119                  NaN  True  ...                       1   \n",
       "3    1732767106                  NaN  True  ...                       1   \n",
       "4    1732767222                  NaN  True  ...                       1   \n",
       "..          ...                  ...   ...  ...                     ...   \n",
       "139  1732775080                  NaN  True  ...                       3   \n",
       "140  1732775333                  NaN  True  ...                       3   \n",
       "141  1732775255                  NaN  True  ...                       3   \n",
       "142  1732775355                  NaN  True  ...                       3   \n",
       "143  1732775354                  NaN  True  ...                       3   \n",
       "\n",
       "    config/num_fcn_layers  config/fcn_width  \\\n",
       "0                       1                32   \n",
       "1                       1                32   \n",
       "2                       1                64   \n",
       "3                       1                64   \n",
       "4                       1                32   \n",
       "..                    ...               ...   \n",
       "139                     3                64   \n",
       "140                     3                32   \n",
       "141                     3                32   \n",
       "142                     3                64   \n",
       "143                     3                64   \n",
       "\n",
       "                                        config/log_dir  \\\n",
       "0    /Users/tyler/GitHub Repositories/UT Austin/202...   \n",
       "1    /Users/tyler/GitHub Repositories/UT Austin/202...   \n",
       "2    /Users/tyler/GitHub Repositories/UT Austin/202...   \n",
       "3    /Users/tyler/GitHub Repositories/UT Austin/202...   \n",
       "4    /Users/tyler/GitHub Repositories/UT Austin/202...   \n",
       "..                                                 ...   \n",
       "139  /Users/tyler/GitHub Repositories/UT Austin/202...   \n",
       "140  /Users/tyler/GitHub Repositories/UT Austin/202...   \n",
       "141  /Users/tyler/GitHub Repositories/UT Austin/202...   \n",
       "142  /Users/tyler/GitHub Repositories/UT Austin/202...   \n",
       "143  /Users/tyler/GitHub Repositories/UT Austin/202...   \n",
       "\n",
       "                                      config/model_dir  \\\n",
       "0    /Users/tyler/GitHub Repositories/UT Austin/202...   \n",
       "1    /Users/tyler/GitHub Repositories/UT Austin/202...   \n",
       "2    /Users/tyler/GitHub Repositories/UT Austin/202...   \n",
       "3    /Users/tyler/GitHub Repositories/UT Austin/202...   \n",
       "4    /Users/tyler/GitHub Repositories/UT Austin/202...   \n",
       "..                                                 ...   \n",
       "139  /Users/tyler/GitHub Repositories/UT Austin/202...   \n",
       "140  /Users/tyler/GitHub Repositories/UT Austin/202...   \n",
       "141  /Users/tyler/GitHub Repositories/UT Austin/202...   \n",
       "142  /Users/tyler/GitHub Repositories/UT Austin/202...   \n",
       "143  /Users/tyler/GitHub Repositories/UT Austin/202...   \n",
       "\n",
       "    config/early_stop_patience config/fold_early_stop  config/print  \\\n",
       "0                           20                     20         False   \n",
       "1                           20                     20         False   \n",
       "2                           20                     20         False   \n",
       "3                           20                     20         False   \n",
       "4                           20                     20         False   \n",
       "..                         ...                    ...           ...   \n",
       "139                         20                     20         False   \n",
       "140                         20                     20         False   \n",
       "141                         20                     20         False   \n",
       "142                         20                     20         False   \n",
       "143                         20                     20         False   \n",
       "\n",
       "     config/tune config/loocv  \n",
       "0           True         True  \n",
       "1           True         True  \n",
       "2           True         True  \n",
       "3           True         True  \n",
       "4           True         True  \n",
       "..           ...          ...  \n",
       "139         True         True  \n",
       "140         True         True  \n",
       "141         True         True  \n",
       "142         True         True  \n",
       "143         True         True  \n",
       "\n",
       "[144 rows x 34 columns]"
      ]
     },
     "execution_count": 3,
     "metadata": {},
     "output_type": "execute_result"
    }
   ],
   "source": [
    "CNNFCN_run1_path = 'results/CNNFCN_run1.csv'\n",
    "CNNFCN_run1_df = pd.read_csv(CNNFCN_run1_path)\n",
    "CNNFCN_run1_df"
   ]
  },
  {
   "cell_type": "code",
   "execution_count": 5,
   "metadata": {},
   "outputs": [
    {
     "data": {
      "text/html": [
       "<div>\n",
       "<style scoped>\n",
       "    .dataframe tbody tr th:only-of-type {\n",
       "        vertical-align: middle;\n",
       "    }\n",
       "\n",
       "    .dataframe tbody tr th {\n",
       "        vertical-align: top;\n",
       "    }\n",
       "\n",
       "    .dataframe thead th {\n",
       "        text-align: right;\n",
       "    }\n",
       "</style>\n",
       "<table border=\"1\" class=\"dataframe\">\n",
       "  <thead>\n",
       "    <tr style=\"text-align: right;\">\n",
       "      <th></th>\n",
       "      <th>avg_train_mse</th>\n",
       "      <th>avg_train_rmse</th>\n",
       "      <th>avg_val_mse</th>\n",
       "      <th>avg_val_rmse</th>\n",
       "      <th>avg_val_r2</th>\n",
       "      <th>avg_epochs</th>\n",
       "      <th>model_name</th>\n",
       "      <th>timestamp</th>\n",
       "      <th>checkpoint_dir_name</th>\n",
       "      <th>done</th>\n",
       "      <th>...</th>\n",
       "      <th>config/num_conv_layers</th>\n",
       "      <th>config/num_fcn_layers</th>\n",
       "      <th>config/fcn_width</th>\n",
       "      <th>config/log_dir</th>\n",
       "      <th>config/model_dir</th>\n",
       "      <th>config/early_stop_patience</th>\n",
       "      <th>config/fold_early_stop</th>\n",
       "      <th>config/print</th>\n",
       "      <th>config/tune</th>\n",
       "      <th>config/loocv</th>\n",
       "    </tr>\n",
       "  </thead>\n",
       "  <tbody>\n",
       "    <tr>\n",
       "      <th>140</th>\n",
       "      <td>0.438081</td>\n",
       "      <td>0.661877</td>\n",
       "      <td>0.49818</td>\n",
       "      <td>0.705819</td>\n",
       "      <td>0.51961</td>\n",
       "      <td>39.090909</td>\n",
       "      <td>CNNFCNRegressor_conv3_fcn3_fcnw32_lr0.01_batch...</td>\n",
       "      <td>1732775333</td>\n",
       "      <td>NaN</td>\n",
       "      <td>True</td>\n",
       "      <td>...</td>\n",
       "      <td>3</td>\n",
       "      <td>3</td>\n",
       "      <td>32</td>\n",
       "      <td>/Users/tyler/GitHub Repositories/UT Austin/202...</td>\n",
       "      <td>/Users/tyler/GitHub Repositories/UT Austin/202...</td>\n",
       "      <td>20</td>\n",
       "      <td>20</td>\n",
       "      <td>False</td>\n",
       "      <td>True</td>\n",
       "      <td>True</td>\n",
       "    </tr>\n",
       "  </tbody>\n",
       "</table>\n",
       "<p>1 rows × 34 columns</p>\n",
       "</div>"
      ],
      "text/plain": [
       "     avg_train_mse  avg_train_rmse  avg_val_mse  avg_val_rmse  avg_val_r2  \\\n",
       "140       0.438081        0.661877      0.49818      0.705819     0.51961   \n",
       "\n",
       "     avg_epochs                                         model_name  \\\n",
       "140   39.090909  CNNFCNRegressor_conv3_fcn3_fcnw32_lr0.01_batch...   \n",
       "\n",
       "      timestamp  checkpoint_dir_name  done  ...  config/num_conv_layers  \\\n",
       "140  1732775333                  NaN  True  ...                       3   \n",
       "\n",
       "    config/num_fcn_layers  config/fcn_width  \\\n",
       "140                     3                32   \n",
       "\n",
       "                                        config/log_dir  \\\n",
       "140  /Users/tyler/GitHub Repositories/UT Austin/202...   \n",
       "\n",
       "                                      config/model_dir  \\\n",
       "140  /Users/tyler/GitHub Repositories/UT Austin/202...   \n",
       "\n",
       "    config/early_stop_patience config/fold_early_stop  config/print  \\\n",
       "140                         20                     20         False   \n",
       "\n",
       "     config/tune config/loocv  \n",
       "140         True         True  \n",
       "\n",
       "[1 rows x 34 columns]"
      ]
     },
     "execution_count": 5,
     "metadata": {},
     "output_type": "execute_result"
    }
   ],
   "source": [
    "CNNFCN_run1_min_rmse = CNNFCN_run1_df[CNNFCN_run1_df['avg_val_rmse'] == CNNFCN_run1_df['avg_val_rmse'].min()]\n",
    "CNNFCN_run1_min_rmse"
   ]
  },
  {
   "cell_type": "code",
   "execution_count": 8,
   "metadata": {},
   "outputs": [
    {
     "data": {
      "text/plain": [
       "'CNNFCNRegressor_conv3_fcn3_fcnw32_lr0.01_batch16_epochs100'"
      ]
     },
     "execution_count": 8,
     "metadata": {},
     "output_type": "execute_result"
    }
   ],
   "source": [
    "CNNFCN_run1_min_rmse['model_name'].values[0]"
   ]
  },
  {
   "cell_type": "code",
   "execution_count": 9,
   "metadata": {},
   "outputs": [
    {
     "data": {
      "text/html": [
       "<div>\n",
       "<style scoped>\n",
       "    .dataframe tbody tr th:only-of-type {\n",
       "        vertical-align: middle;\n",
       "    }\n",
       "\n",
       "    .dataframe tbody tr th {\n",
       "        vertical-align: top;\n",
       "    }\n",
       "\n",
       "    .dataframe thead th {\n",
       "        text-align: right;\n",
       "    }\n",
       "</style>\n",
       "<table border=\"1\" class=\"dataframe\">\n",
       "  <thead>\n",
       "    <tr style=\"text-align: right;\">\n",
       "      <th></th>\n",
       "      <th>avg_train_mse</th>\n",
       "      <th>avg_train_rmse</th>\n",
       "      <th>avg_val_mse</th>\n",
       "      <th>avg_val_rmse</th>\n",
       "      <th>avg_val_r2</th>\n",
       "      <th>avg_epochs</th>\n",
       "      <th>model_name</th>\n",
       "      <th>timestamp</th>\n",
       "      <th>checkpoint_dir_name</th>\n",
       "      <th>done</th>\n",
       "      <th>...</th>\n",
       "      <th>config/num_conv_layers</th>\n",
       "      <th>config/num_fcn_layers</th>\n",
       "      <th>config/fcn_width</th>\n",
       "      <th>config/log_dir</th>\n",
       "      <th>config/model_dir</th>\n",
       "      <th>config/early_stop_patience</th>\n",
       "      <th>config/fold_early_stop</th>\n",
       "      <th>config/print</th>\n",
       "      <th>config/tune</th>\n",
       "      <th>config/loocv</th>\n",
       "    </tr>\n",
       "  </thead>\n",
       "  <tbody>\n",
       "    <tr>\n",
       "      <th>140</th>\n",
       "      <td>0.438081</td>\n",
       "      <td>0.661877</td>\n",
       "      <td>0.49818</td>\n",
       "      <td>0.705819</td>\n",
       "      <td>0.51961</td>\n",
       "      <td>39.090909</td>\n",
       "      <td>CNNFCNRegressor_conv3_fcn3_fcnw32_lr0.01_batch...</td>\n",
       "      <td>1732775333</td>\n",
       "      <td>NaN</td>\n",
       "      <td>True</td>\n",
       "      <td>...</td>\n",
       "      <td>3</td>\n",
       "      <td>3</td>\n",
       "      <td>32</td>\n",
       "      <td>/Users/tyler/GitHub Repositories/UT Austin/202...</td>\n",
       "      <td>/Users/tyler/GitHub Repositories/UT Austin/202...</td>\n",
       "      <td>20</td>\n",
       "      <td>20</td>\n",
       "      <td>False</td>\n",
       "      <td>True</td>\n",
       "      <td>True</td>\n",
       "    </tr>\n",
       "  </tbody>\n",
       "</table>\n",
       "<p>1 rows × 34 columns</p>\n",
       "</div>"
      ],
      "text/plain": [
       "     avg_train_mse  avg_train_rmse  avg_val_mse  avg_val_rmse  avg_val_r2  \\\n",
       "140       0.438081        0.661877      0.49818      0.705819     0.51961   \n",
       "\n",
       "     avg_epochs                                         model_name  \\\n",
       "140   39.090909  CNNFCNRegressor_conv3_fcn3_fcnw32_lr0.01_batch...   \n",
       "\n",
       "      timestamp  checkpoint_dir_name  done  ...  config/num_conv_layers  \\\n",
       "140  1732775333                  NaN  True  ...                       3   \n",
       "\n",
       "    config/num_fcn_layers  config/fcn_width  \\\n",
       "140                     3                32   \n",
       "\n",
       "                                        config/log_dir  \\\n",
       "140  /Users/tyler/GitHub Repositories/UT Austin/202...   \n",
       "\n",
       "                                      config/model_dir  \\\n",
       "140  /Users/tyler/GitHub Repositories/UT Austin/202...   \n",
       "\n",
       "    config/early_stop_patience config/fold_early_stop  config/print  \\\n",
       "140                         20                     20         False   \n",
       "\n",
       "     config/tune config/loocv  \n",
       "140         True         True  \n",
       "\n",
       "[1 rows x 34 columns]"
      ]
     },
     "execution_count": 9,
     "metadata": {},
     "output_type": "execute_result"
    }
   ],
   "source": [
    "CNNFCN_run1_max_r2 = CNNFCN_run1_df[CNNFCN_run1_df['avg_val_r2'] == CNNFCN_run1_df['avg_val_r2'].max()]\n",
    "CNNFCN_run1_max_r2"
   ]
  },
  {
   "cell_type": "code",
   "execution_count": 10,
   "metadata": {},
   "outputs": [
    {
     "data": {
      "text/plain": [
       "'CNNFCNRegressor_conv3_fcn3_fcnw32_lr0.01_batch16_epochs100'"
      ]
     },
     "execution_count": 10,
     "metadata": {},
     "output_type": "execute_result"
    }
   ],
   "source": [
    "CNNFCN_run1_max_r2['model_name'].values[0]"
   ]
  },
  {
   "cell_type": "code",
   "execution_count": 61,
   "metadata": {},
   "outputs": [
    {
     "data": {
      "text/plain": [
       "5.424180022477394"
      ]
     },
     "execution_count": 61,
     "metadata": {},
     "output_type": "execute_result"
    }
   ],
   "source": [
    "CNN_RMSE = CNNFCN_run1_min_rmse['avg_val_rmse'].values[0]\n",
    "CNN_RMSE = (CNN_RMSE * EE_STD + EE_MEAN) / 1000\n",
    "CNN_RMSE"
   ]
  },
  {
   "cell_type": "code",
   "execution_count": 62,
   "metadata": {},
   "outputs": [
    {
     "data": {
      "text/plain": [
       "0.0740275791958589"
      ]
     },
     "execution_count": 62,
     "metadata": {},
     "output_type": "execute_result"
    }
   ],
   "source": [
    "CNN_RMSE / WEIGHT_MEAN"
   ]
  },
  {
   "cell_type": "markdown",
   "metadata": {},
   "source": [
    "CNN RMSE:\n",
    "\n",
    "5.424 kcal/min\n",
    "\n",
    "0.0740 kcal/kg/min"
   ]
  },
  {
   "cell_type": "code",
   "execution_count": 63,
   "metadata": {},
   "outputs": [
    {
     "data": {
      "text/plain": [
       "1.5579447615577164"
      ]
     },
     "execution_count": 63,
     "metadata": {},
     "output_type": "execute_result"
    }
   ],
   "source": [
    "CNN_CV = CNN_RMSE / (EE_MEAN / 1000) # kcal/min\n",
    "CNN_CV"
   ]
  },
  {
   "cell_type": "markdown",
   "metadata": {},
   "source": [
    "### All models"
   ]
  },
  {
   "cell_type": "code",
   "execution_count": 47,
   "metadata": {},
   "outputs": [
    {
     "data": {
      "text/plain": [
       "0.8770630396403608"
      ]
     },
     "execution_count": 47,
     "metadata": {},
     "output_type": "execute_result"
    }
   ],
   "source": [
    "CNNFCN_run1_avg_rmse = CNNFCN_run1_df['avg_val_rmse'].mean()\n",
    "CNNFCN_run1_avg_rmse"
   ]
  },
  {
   "cell_type": "code",
   "execution_count": 49,
   "metadata": {},
   "outputs": [
    {
     "data": {
      "text/plain": [
       "5.895477683926523"
      ]
     },
     "execution_count": 49,
     "metadata": {},
     "output_type": "execute_result"
    }
   ],
   "source": [
    "(CNNFCN_run1_avg_rmse * EE_STD + EE_MEAN) / 1000"
   ]
  },
  {
   "cell_type": "code",
   "execution_count": 50,
   "metadata": {},
   "outputs": [
    {
     "data": {
      "text/plain": [
       "0.13234056729733196"
      ]
     },
     "execution_count": 50,
     "metadata": {},
     "output_type": "execute_result"
    }
   ],
   "source": [
    "CNN_FCN_run1_std_rmse = CNNFCN_run1_df['avg_val_rmse'].std()\n",
    "CNN_FCN_run1_std_rmse"
   ]
  },
  {
   "cell_type": "code",
   "execution_count": 51,
   "metadata": {},
   "outputs": [
    {
     "data": {
      "text/plain": [
       "0.3642276197211529"
      ]
     },
     "execution_count": 51,
     "metadata": {},
     "output_type": "execute_result"
    }
   ],
   "source": [
    "(CNN_FCN_run1_std_rmse * EE_STD) / 1000"
   ]
  },
  {
   "cell_type": "markdown",
   "metadata": {},
   "source": [
    "## Run 2 80/20 Split"
   ]
  },
  {
   "cell_type": "code",
   "execution_count": 23,
   "metadata": {},
   "outputs": [
    {
     "data": {
      "text/html": [
       "<div>\n",
       "<style scoped>\n",
       "    .dataframe tbody tr th:only-of-type {\n",
       "        vertical-align: middle;\n",
       "    }\n",
       "\n",
       "    .dataframe tbody tr th {\n",
       "        vertical-align: top;\n",
       "    }\n",
       "\n",
       "    .dataframe thead th {\n",
       "        text-align: right;\n",
       "    }\n",
       "</style>\n",
       "<table border=\"1\" class=\"dataframe\">\n",
       "  <thead>\n",
       "    <tr style=\"text-align: right;\">\n",
       "      <th></th>\n",
       "      <th>train_mse</th>\n",
       "      <th>val_mse</th>\n",
       "      <th>val_r2</th>\n",
       "      <th>model_name</th>\n",
       "      <th>epoch</th>\n",
       "    </tr>\n",
       "  </thead>\n",
       "  <tbody>\n",
       "    <tr>\n",
       "      <th>0</th>\n",
       "      <td>0.479469</td>\n",
       "      <td>0.338891</td>\n",
       "      <td>0.719403</td>\n",
       "      <td>CNNFCNRegressor_conv3_fcn3_fcnw32_lr0.01_batch...</td>\n",
       "      <td>38</td>\n",
       "    </tr>\n",
       "  </tbody>\n",
       "</table>\n",
       "</div>"
      ],
      "text/plain": [
       "   train_mse   val_mse    val_r2  \\\n",
       "0   0.479469  0.338891  0.719403   \n",
       "\n",
       "                                          model_name  epoch  \n",
       "0  CNNFCNRegressor_conv3_fcn3_fcnw32_lr0.01_batch...     38  "
      ]
     },
     "execution_count": 23,
     "metadata": {},
     "output_type": "execute_result"
    }
   ],
   "source": [
    "CNNFCN_run2_path = 'results/CNNFCN_run2.csv'\n",
    "CNNFCN_run2_df = pd.read_csv(CNNFCN_run2_path)\n",
    "CNNFCN_run2_df"
   ]
  },
  {
   "cell_type": "code",
   "execution_count": 71,
   "metadata": {},
   "outputs": [
    {
     "data": {
      "text/plain": [
       "5.083801329918369"
      ]
     },
     "execution_count": 71,
     "metadata": {},
     "output_type": "execute_result"
    }
   ],
   "source": [
    "CNN_RMSE_run2 = np.sqrt(CNNFCN_run2_df['val_mse'].values[0])\n",
    "CNN_RMSE_run2 = (CNN_RMSE_run2 * EE_STD + EE_MEAN) / 1000\n",
    "CNN_RMSE_run2"
   ]
  },
  {
   "cell_type": "code",
   "execution_count": 72,
   "metadata": {},
   "outputs": [
    {
     "data": {
      "text/plain": [
       "6.938219307010718e-05"
      ]
     },
     "execution_count": 72,
     "metadata": {},
     "output_type": "execute_result"
    }
   ],
   "source": [
    "CNN_RMSE_run2 / WEIGHT_MEAN / 1000"
   ]
  },
  {
   "cell_type": "markdown",
   "metadata": {},
   "source": [
    "CNN 80/20 RMSE: \n",
    "\n",
    "5.083 kcal/min\n",
    "\n",
    "0.0694 kcal/kg/min"
   ]
  },
  {
   "cell_type": "code",
   "execution_count": 73,
   "metadata": {},
   "outputs": [
    {
     "data": {
      "text/plain": [
       "1.4601804545434378"
      ]
     },
     "execution_count": 73,
     "metadata": {},
     "output_type": "execute_result"
    }
   ],
   "source": [
    "CNN_CV_run2 = CNN_RMSE_run2 / (EE_MEAN / 1000) # kcal/min\n",
    "CNN_CV_run2"
   ]
  },
  {
   "cell_type": "markdown",
   "metadata": {},
   "source": [
    "# CNNLSTMFCN"
   ]
  },
  {
   "cell_type": "markdown",
   "metadata": {},
   "source": [
    "## Run 1 LOOCV"
   ]
  },
  {
   "cell_type": "markdown",
   "metadata": {},
   "source": [
    "### Best model"
   ]
  },
  {
   "cell_type": "code",
   "execution_count": 17,
   "metadata": {},
   "outputs": [],
   "source": [
    "CNNLSTMFCN_run1_path = 'results/CNNLSTMFCN_run1.csv'\n",
    "CNNLSTMFCN_run1_df = pd.read_csv(CNNLSTMFCN_run1_path)\n",
    "# CNNLSTMFCN_run1_df"
   ]
  },
  {
   "cell_type": "code",
   "execution_count": 13,
   "metadata": {},
   "outputs": [
    {
     "data": {
      "text/html": [
       "<div>\n",
       "<style scoped>\n",
       "    .dataframe tbody tr th:only-of-type {\n",
       "        vertical-align: middle;\n",
       "    }\n",
       "\n",
       "    .dataframe tbody tr th {\n",
       "        vertical-align: top;\n",
       "    }\n",
       "\n",
       "    .dataframe thead th {\n",
       "        text-align: right;\n",
       "    }\n",
       "</style>\n",
       "<table border=\"1\" class=\"dataframe\">\n",
       "  <thead>\n",
       "    <tr style=\"text-align: right;\">\n",
       "      <th></th>\n",
       "      <th>avg_train_mse</th>\n",
       "      <th>avg_train_rmse</th>\n",
       "      <th>avg_val_mse</th>\n",
       "      <th>avg_val_rmse</th>\n",
       "      <th>avg_val_r2</th>\n",
       "      <th>avg_epochs</th>\n",
       "      <th>model_name</th>\n",
       "      <th>timestamp</th>\n",
       "      <th>checkpoint_dir_name</th>\n",
       "      <th>done</th>\n",
       "      <th>...</th>\n",
       "      <th>config/fcn_width</th>\n",
       "      <th>config/lstm_hidden_size</th>\n",
       "      <th>config/lstm_num_layers</th>\n",
       "      <th>config/log_dir</th>\n",
       "      <th>config/model_dir</th>\n",
       "      <th>config/early_stop_patience</th>\n",
       "      <th>config/fold_early_stop</th>\n",
       "      <th>config/print</th>\n",
       "      <th>config/tune</th>\n",
       "      <th>config/loocv</th>\n",
       "    </tr>\n",
       "  </thead>\n",
       "  <tbody>\n",
       "    <tr>\n",
       "      <th>15</th>\n",
       "      <td>0.369113</td>\n",
       "      <td>0.607547</td>\n",
       "      <td>0.535163</td>\n",
       "      <td>0.731548</td>\n",
       "      <td>0.479545</td>\n",
       "      <td>38.272727</td>\n",
       "      <td>CNNLSTMFCNRegressor_conv3_fcn3_fcnw32_lstm1_ls...</td>\n",
       "      <td>1732813474</td>\n",
       "      <td>NaN</td>\n",
       "      <td>True</td>\n",
       "      <td>...</td>\n",
       "      <td>32</td>\n",
       "      <td>64</td>\n",
       "      <td>1</td>\n",
       "      <td>/Users/tyler/GitHub Repositories/UT Austin/202...</td>\n",
       "      <td>/Users/tyler/GitHub Repositories/UT Austin/202...</td>\n",
       "      <td>20</td>\n",
       "      <td>20</td>\n",
       "      <td>False</td>\n",
       "      <td>True</td>\n",
       "      <td>True</td>\n",
       "    </tr>\n",
       "  </tbody>\n",
       "</table>\n",
       "<p>1 rows × 36 columns</p>\n",
       "</div>"
      ],
      "text/plain": [
       "    avg_train_mse  avg_train_rmse  avg_val_mse  avg_val_rmse  avg_val_r2  \\\n",
       "15       0.369113        0.607547     0.535163      0.731548    0.479545   \n",
       "\n",
       "    avg_epochs                                         model_name   timestamp  \\\n",
       "15   38.272727  CNNLSTMFCNRegressor_conv3_fcn3_fcnw32_lstm1_ls...  1732813474   \n",
       "\n",
       "    checkpoint_dir_name  done  ...  config/fcn_width config/lstm_hidden_size  \\\n",
       "15                  NaN  True  ...                32                      64   \n",
       "\n",
       "    config/lstm_num_layers                                     config/log_dir  \\\n",
       "15                       1  /Users/tyler/GitHub Repositories/UT Austin/202...   \n",
       "\n",
       "                                     config/model_dir  \\\n",
       "15  /Users/tyler/GitHub Repositories/UT Austin/202...   \n",
       "\n",
       "   config/early_stop_patience config/fold_early_stop  config/print  \\\n",
       "15                         20                     20         False   \n",
       "\n",
       "    config/tune config/loocv  \n",
       "15         True         True  \n",
       "\n",
       "[1 rows x 36 columns]"
      ]
     },
     "execution_count": 13,
     "metadata": {},
     "output_type": "execute_result"
    }
   ],
   "source": [
    "CNNLSTMFCN_run1_min_rmse = CNNLSTMFCN_run1_df[CNNLSTMFCN_run1_df['avg_val_rmse'] == CNNLSTMFCN_run1_df['avg_val_rmse'].min()]\n",
    "CNNLSTMFCN_run1_min_rmse"
   ]
  },
  {
   "cell_type": "code",
   "execution_count": null,
   "metadata": {},
   "outputs": [
    {
     "data": {
      "text/plain": [
       "'CNNLSTMFCNRegressor_conv3_fcn3_fcnw32_lstm1_lstmh64_lr0.01_batch32_epochs100'"
      ]
     },
     "execution_count": 14,
     "metadata": {},
     "output_type": "execute_result"
    }
   ],
   "source": [
    "CNNLSTMFCN_run1_min_rmse['model_name'].values[0]"
   ]
  },
  {
   "cell_type": "code",
   "execution_count": 15,
   "metadata": {},
   "outputs": [
    {
     "data": {
      "text/html": [
       "<div>\n",
       "<style scoped>\n",
       "    .dataframe tbody tr th:only-of-type {\n",
       "        vertical-align: middle;\n",
       "    }\n",
       "\n",
       "    .dataframe tbody tr th {\n",
       "        vertical-align: top;\n",
       "    }\n",
       "\n",
       "    .dataframe thead th {\n",
       "        text-align: right;\n",
       "    }\n",
       "</style>\n",
       "<table border=\"1\" class=\"dataframe\">\n",
       "  <thead>\n",
       "    <tr style=\"text-align: right;\">\n",
       "      <th></th>\n",
       "      <th>avg_train_mse</th>\n",
       "      <th>avg_train_rmse</th>\n",
       "      <th>avg_val_mse</th>\n",
       "      <th>avg_val_rmse</th>\n",
       "      <th>avg_val_r2</th>\n",
       "      <th>avg_epochs</th>\n",
       "      <th>model_name</th>\n",
       "      <th>timestamp</th>\n",
       "      <th>checkpoint_dir_name</th>\n",
       "      <th>done</th>\n",
       "      <th>...</th>\n",
       "      <th>config/fcn_width</th>\n",
       "      <th>config/lstm_hidden_size</th>\n",
       "      <th>config/lstm_num_layers</th>\n",
       "      <th>config/log_dir</th>\n",
       "      <th>config/model_dir</th>\n",
       "      <th>config/early_stop_patience</th>\n",
       "      <th>config/fold_early_stop</th>\n",
       "      <th>config/print</th>\n",
       "      <th>config/tune</th>\n",
       "      <th>config/loocv</th>\n",
       "    </tr>\n",
       "  </thead>\n",
       "  <tbody>\n",
       "    <tr>\n",
       "      <th>15</th>\n",
       "      <td>0.369113</td>\n",
       "      <td>0.607547</td>\n",
       "      <td>0.535163</td>\n",
       "      <td>0.731548</td>\n",
       "      <td>0.479545</td>\n",
       "      <td>38.272727</td>\n",
       "      <td>CNNLSTMFCNRegressor_conv3_fcn3_fcnw32_lstm1_ls...</td>\n",
       "      <td>1732813474</td>\n",
       "      <td>NaN</td>\n",
       "      <td>True</td>\n",
       "      <td>...</td>\n",
       "      <td>32</td>\n",
       "      <td>64</td>\n",
       "      <td>1</td>\n",
       "      <td>/Users/tyler/GitHub Repositories/UT Austin/202...</td>\n",
       "      <td>/Users/tyler/GitHub Repositories/UT Austin/202...</td>\n",
       "      <td>20</td>\n",
       "      <td>20</td>\n",
       "      <td>False</td>\n",
       "      <td>True</td>\n",
       "      <td>True</td>\n",
       "    </tr>\n",
       "  </tbody>\n",
       "</table>\n",
       "<p>1 rows × 36 columns</p>\n",
       "</div>"
      ],
      "text/plain": [
       "    avg_train_mse  avg_train_rmse  avg_val_mse  avg_val_rmse  avg_val_r2  \\\n",
       "15       0.369113        0.607547     0.535163      0.731548    0.479545   \n",
       "\n",
       "    avg_epochs                                         model_name   timestamp  \\\n",
       "15   38.272727  CNNLSTMFCNRegressor_conv3_fcn3_fcnw32_lstm1_ls...  1732813474   \n",
       "\n",
       "    checkpoint_dir_name  done  ...  config/fcn_width config/lstm_hidden_size  \\\n",
       "15                  NaN  True  ...                32                      64   \n",
       "\n",
       "    config/lstm_num_layers                                     config/log_dir  \\\n",
       "15                       1  /Users/tyler/GitHub Repositories/UT Austin/202...   \n",
       "\n",
       "                                     config/model_dir  \\\n",
       "15  /Users/tyler/GitHub Repositories/UT Austin/202...   \n",
       "\n",
       "   config/early_stop_patience config/fold_early_stop  config/print  \\\n",
       "15                         20                     20         False   \n",
       "\n",
       "    config/tune config/loocv  \n",
       "15         True         True  \n",
       "\n",
       "[1 rows x 36 columns]"
      ]
     },
     "execution_count": 15,
     "metadata": {},
     "output_type": "execute_result"
    }
   ],
   "source": [
    "CNNLSTMFCN_run1_max_r2 = CNNLSTMFCN_run1_df[CNNLSTMFCN_run1_df['avg_val_r2'] == CNNLSTMFCN_run1_df['avg_val_r2'].max()]\n",
    "CNNLSTMFCN_run1_max_r2"
   ]
  },
  {
   "cell_type": "code",
   "execution_count": 16,
   "metadata": {},
   "outputs": [
    {
     "data": {
      "text/plain": [
       "'CNNLSTMFCNRegressor_conv3_fcn3_fcnw32_lstm1_lstmh64_lr0.01_batch32_epochs100'"
      ]
     },
     "execution_count": 16,
     "metadata": {},
     "output_type": "execute_result"
    }
   ],
   "source": [
    "CNNLSTMFCN_run1_max_r2['model_name'].values[0]"
   ]
  },
  {
   "cell_type": "code",
   "execution_count": null,
   "metadata": {},
   "outputs": [
    {
     "data": {
      "text/plain": [
       "5.494991824533308"
      ]
     },
     "execution_count": 56,
     "metadata": {},
     "output_type": "execute_result"
    }
   ],
   "source": [
    "CNNLSTM_RMSE = CNNLSTMFCN_run1_min_rmse['avg_val_rmse'].values[0]\n",
    "CNNLSTM_RMSE = (CNNLSTM_RMSE * EE_STD + EE_MEAN) / 1000 # kcal/min\n",
    "CNNLSTM_RMSE"
   ]
  },
  {
   "cell_type": "code",
   "execution_count": 57,
   "metadata": {},
   "outputs": [
    {
     "data": {
      "text/plain": [
       "0.07499399739418068"
      ]
     },
     "execution_count": 57,
     "metadata": {},
     "output_type": "execute_result"
    }
   ],
   "source": [
    "CNNLSTM_RMSE / WEIGHT_MEAN"
   ]
  },
  {
   "cell_type": "markdown",
   "metadata": {},
   "source": [
    "CNN-LSTM RMSE: \n",
    "\n",
    "5.494 kcal/min\n",
    "\n",
    "0.0750 kcal/kg/min"
   ]
  },
  {
   "cell_type": "code",
   "execution_count": 59,
   "metadata": {},
   "outputs": [
    {
     "data": {
      "text/plain": [
       "1.578283481071507"
      ]
     },
     "execution_count": 59,
     "metadata": {},
     "output_type": "execute_result"
    }
   ],
   "source": [
    "CNNLSTM_CV = CNNLSTM_RMSE / (EE_MEAN / 1000) # kcal/min\n",
    "CNNLSTM_CV"
   ]
  },
  {
   "cell_type": "markdown",
   "metadata": {},
   "source": [
    "### All models"
   ]
  },
  {
   "cell_type": "code",
   "execution_count": 52,
   "metadata": {},
   "outputs": [
    {
     "data": {
      "text/plain": [
       "0.8956828881781534"
      ]
     },
     "execution_count": 52,
     "metadata": {},
     "output_type": "execute_result"
    }
   ],
   "source": [
    "CNNLSTMFCN_run1_avg_rmse = CNNLSTMFCN_run1_df['avg_val_rmse'].mean()\n",
    "CNNLSTMFCN_run1_avg_rmse"
   ]
  },
  {
   "cell_type": "code",
   "execution_count": 53,
   "metadata": {},
   "outputs": [
    {
     "data": {
      "text/plain": [
       "5.946723218466599"
      ]
     },
     "execution_count": 53,
     "metadata": {},
     "output_type": "execute_result"
    }
   ],
   "source": [
    "(CNNLSTMFCN_run1_avg_rmse * EE_STD + EE_MEAN) / 1000"
   ]
  },
  {
   "cell_type": "code",
   "execution_count": 54,
   "metadata": {},
   "outputs": [
    {
     "data": {
      "text/plain": [
       "0.12448309382514211"
      ]
     },
     "execution_count": 54,
     "metadata": {},
     "output_type": "execute_result"
    }
   ],
   "source": [
    "CNNLSTM_FCN_run1_std_rmse = CNNLSTMFCN_run1_df['avg_val_rmse'].std()\n",
    "CNNLSTM_FCN_run1_std_rmse"
   ]
  },
  {
   "cell_type": "code",
   "execution_count": 55,
   "metadata": {},
   "outputs": [
    {
     "data": {
      "text/plain": [
       "0.34260228655050157"
      ]
     },
     "execution_count": 55,
     "metadata": {},
     "output_type": "execute_result"
    }
   ],
   "source": [
    "(CNNLSTM_FCN_run1_std_rmse * EE_STD) / 1000"
   ]
  },
  {
   "cell_type": "markdown",
   "metadata": {},
   "source": [
    "## Run 2 80/20 Split"
   ]
  },
  {
   "cell_type": "code",
   "execution_count": 35,
   "metadata": {},
   "outputs": [
    {
     "data": {
      "text/html": [
       "<div>\n",
       "<style scoped>\n",
       "    .dataframe tbody tr th:only-of-type {\n",
       "        vertical-align: middle;\n",
       "    }\n",
       "\n",
       "    .dataframe tbody tr th {\n",
       "        vertical-align: top;\n",
       "    }\n",
       "\n",
       "    .dataframe thead th {\n",
       "        text-align: right;\n",
       "    }\n",
       "</style>\n",
       "<table border=\"1\" class=\"dataframe\">\n",
       "  <thead>\n",
       "    <tr style=\"text-align: right;\">\n",
       "      <th></th>\n",
       "      <th>train_mse</th>\n",
       "      <th>val_mse</th>\n",
       "      <th>val_r2</th>\n",
       "      <th>model_name</th>\n",
       "      <th>epoch</th>\n",
       "    </tr>\n",
       "  </thead>\n",
       "  <tbody>\n",
       "    <tr>\n",
       "      <th>0</th>\n",
       "      <td>0.438891</td>\n",
       "      <td>0.341947</td>\n",
       "      <td>0.716369</td>\n",
       "      <td>CNNLSTMFCNRegressor_conv3_fcn3_fcnw32_lstm1_ls...</td>\n",
       "      <td>43</td>\n",
       "    </tr>\n",
       "  </tbody>\n",
       "</table>\n",
       "</div>"
      ],
      "text/plain": [
       "   train_mse   val_mse    val_r2  \\\n",
       "0   0.438891  0.341947  0.716369   \n",
       "\n",
       "                                          model_name  epoch  \n",
       "0  CNNLSTMFCNRegressor_conv3_fcn3_fcnw32_lstm1_ls...     43  "
      ]
     },
     "execution_count": 35,
     "metadata": {},
     "output_type": "execute_result"
    }
   ],
   "source": [
    "CNNLSTMFCN_run2_path = 'results/CNNLSTMFCN_run2.csv'\n",
    "CNNLSTMFCN_run2_df = pd.read_csv(CNNLSTMFCN_run2_path)\n",
    "CNNLSTMFCN_run2_df"
   ]
  },
  {
   "cell_type": "code",
   "execution_count": 38,
   "metadata": {},
   "outputs": [
    {
     "data": {
      "text/plain": [
       "5091.008998352013"
      ]
     },
     "execution_count": 38,
     "metadata": {},
     "output_type": "execute_result"
    }
   ],
   "source": [
    "CNNLSTM_RMSE_run2 = np.sqrt(CNNLSTMFCN_run2_df['val_mse'].values[0])\n",
    "CNNLSTM_RMSE_run2 = CNNLSTM_RMSE_run2 * EE_STD + EE_MEAN\n",
    "CNNLSTM_RMSE_run2"
   ]
  },
  {
   "cell_type": "code",
   "execution_count": 43,
   "metadata": {},
   "outputs": [
    {
     "data": {
      "text/plain": [
       "0.06948056116327112"
      ]
     },
     "execution_count": 43,
     "metadata": {},
     "output_type": "execute_result"
    }
   ],
   "source": [
    "CNNLSTM_RMSE_run2 / WEIGHT_MEAN / 1000"
   ]
  },
  {
   "cell_type": "markdown",
   "metadata": {},
   "source": [
    "CNN 80/20 RMSE: \n",
    "\n",
    "5.091 kcal/min\n",
    "\n",
    "0.0695 kcal/kg/min"
   ]
  },
  {
   "cell_type": "markdown",
   "metadata": {},
   "source": []
  }
 ],
 "metadata": {
  "kernelspec": {
   "display_name": "wearable310",
   "language": "python",
   "name": "python3"
  },
  "language_info": {
   "codemirror_mode": {
    "name": "ipython",
    "version": 3
   },
   "file_extension": ".py",
   "mimetype": "text/x-python",
   "name": "python",
   "nbconvert_exporter": "python",
   "pygments_lexer": "ipython3",
   "version": "3.10.15"
  }
 },
 "nbformat": 4,
 "nbformat_minor": 2
}
